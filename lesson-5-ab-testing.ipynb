{
 "cells": [
  {
   "attachments": {},
   "cell_type": "markdown",
   "metadata": {},
   "source": [
    "Вы провели эксперимент c упрощением формы заказа в магазине Утконос и получили результаты по метрике конверсий в покупку. Выберите метод оценки и оцените есть ли стат.значимые различия между конверсиями в двух группах при alpha = 5%. Дайте краткие рекомендации команде .Результаты: 1)Число юзеров в группах , которые заходили на сайт в период эксперимента: n1 = 15550 и n2 = 15550 . 2) Число юзеров в группах , которые совершили хотя бы одну покупку за период эксперимента: n1 = 164 и n2 = 228 3) Конверсии : conv1 = 1.05% conv2 = 1.47% ."
   ]
  },
  {
   "cell_type": "code",
   "execution_count": 1,
   "metadata": {},
   "outputs": [],
   "source": [
    "from math import sqrt\n",
    "import scipy.stats"
   ]
  },
  {
   "cell_type": "code",
   "execution_count": 6,
   "metadata": {},
   "outputs": [
    {
     "ename": "NameError",
     "evalue": "name 'calc_z_di' is not defined",
     "output_type": "error",
     "traceback": [
      "\u001b[1;31m---------------------------------------------------------------------------\u001b[0m",
      "\u001b[1;31mNameError\u001b[0m                                 Traceback (most recent call last)",
      "Cell \u001b[1;32mIn[6], line 1\u001b[0m\n\u001b[1;32m----> 1\u001b[0m calc_z_di (total_control,total_test, n_control, n_test)\n\u001b[0;32m      2\u001b[0m сonv_control\u001b[39m=\u001b[39mn_control\u001b[39m/\u001b[39mtotal_control\n\u001b[0;32m      3\u001b[0m conv_test\u001b[39m=\u001b[39mn_test\u001b[39m/\u001b[39mtotal_test\n",
      "\u001b[1;31mNameError\u001b[0m: name 'calc_z_di' is not defined"
     ]
    }
   ],
   "source": [
    "calc_z_di (total_control,total_test, n_control, n_test)\n",
    "сonv_control=n_control/total_control\n",
    "conv_test=n_test/total_test\n",
    "Lift=(conv_test-сonv_control)/сonv_control\n",
    "SE_control = sqrt(сonv_control*(1-сonv_control)/total_control)\n",
    "SE_test = sqrt(conv_test *(1 -conv_test)/total_test)  \n",
    "SE_diff = sqrt(SE_control**2+SE_test**2)\n",
    "z_core=(conv_test-сonv_control)/SE_diff\n",
    "p.value=scipy.stats.norm.sf(abs(z_core))**2\n",
    "left=conv_test-сonv_control-1.96*SE_diff\n",
    "right=conv_test-сonv_control-1.96*SE_diff\n",
    "\n",
    "result = { \"lift\":lift,\n",
    "     \"se_control\":SE_control,\n",
    "     \"se_test\":SE_test,\n",
    "     \"z_core\":z_core,\n",
    "     \"p.valuep\":p.value,\n",
    "     \"ci\":[left, right] }\n",
    "     \n",
    "result \n",
    "calc_z_di (total_control=15500,total_test=15500,n_control=164, n_test=228)"
   ]
  },
  {
   "attachments": {},
   "cell_type": "markdown",
   "metadata": {},
   "source": [
    "* Задание 2\n",
    "Сравниваем метрику конверсия в покупку. Размер выборки - 10000 элементов в каждой группе . Какой статистический критерий тут лучше всего подойдёт и почему ?"
   ]
  },
  {
   "cell_type": "code",
   "execution_count": 9,
   "metadata": {},
   "outputs": [
    {
     "name": "stdout",
     "output_type": "stream",
     "text": [
      "Необходимый размер выборки: 1093\n"
     ]
    },
    {
     "name": "stderr",
     "output_type": "stream",
     "text": [
      "d:\\programms\\python\\lib\\site-packages\\scipy\\stats\\_continuous_distns.py:6832: RuntimeWarning: invalid value encountered in _nct_sf\n",
      "  return np.clip(_boost._nct_sf(x, df, nc), 0, 1)\n",
      "d:\\programms\\python\\lib\\site-packages\\scipy\\stats\\_continuous_distns.py:6826: RuntimeWarning: invalid value encountered in _nct_cdf\n",
      "  return np.clip(_boost._nct_cdf(x, df, nc), 0, 1)\n"
     ]
    }
   ],
   "source": [
    "from statsmodels.stats.proportion import proportion_effectsize\n",
    "from statsmodels.stats.power import TTestIndPower\n",
    "\n",
    "\n",
    "baseline_cr = 0.2 # базовый уровень конверсии\n",
    "min_effect = 0.05 # минимальный значимый результат\n",
    "\n",
    "effect_size = proportion_effectsize(baseline_cr, baseline_cr + min_effect)\n",
    "\n",
    "\n",
    "alpha = 0.05 # уровень значимости\n",
    "power = 0.8  #уровень мощности\n",
    "power_analysis = TTestIndPower()\n",
    "sample_size = power_analysis.solve_power(effect_size, power=power, alpha=alpha, alternative='two-sided')\n",
    "\n",
    "print(f\"Необходимый размер выборки: {sample_size:.0f}\")"
   ]
  },
  {
   "cell_type": "code",
   "execution_count": 8,
   "metadata": {},
   "outputs": [
    {
     "name": "stdout",
     "output_type": "stream",
     "text": [
      "Хи-квадрат p-value:  0.5637905872744118\n",
      "Доверительный интервал изменения:  (-0.40081583523469, 4.40041587523069)\n",
      "Разницы нет.\n"
     ]
    }
   ],
   "source": [
    "import numpy as np\n",
    "import scipy.stats as stats\n",
    "\n",
    "# Загрузите данные в переменные\n",
    "group_A = [1, 10000]\n",
    "group_B = [2, 10001]\n",
    "\n",
    "# Запустите тест\n",
    "chi2, p, dof, ex = stats.chi2_contingency([group_A, group_B], correction=False)\n",
    "\n",
    "# Рассчитайте доверительный интервал для изменения\n",
    "lift = (group_B[0]/group_B[1])/(group_A[0]/group_A[1])\n",
    "std_error = np.sqrt(1/group_B[0] + 1/group_B[1] + 1/group_A[0] + 1/group_A[1])\n",
    "ci = stats.norm.interval(0.95, loc=lift, scale=std_error)\n",
    "\n",
    "# Выводим результаты\n",
    "print(\"Хи-квадрат p-value: \", p)\n",
    "print(\"Доверительный интервал изменения: \", ci)\n",
    "\n",
    "# Проверяем есть ли изменение\n",
    "if p < 0.05 and ci[0] > 1:\n",
    "    print(\"Вариант лучше.\")\n",
    "else:\n",
    "    print(\"Разницы нет.\")"
   ]
  }
 ],
 "metadata": {
  "kernelspec": {
   "display_name": "Python 3",
   "language": "python",
   "name": "python3"
  },
  "language_info": {
   "codemirror_mode": {
    "name": "ipython",
    "version": 3
   },
   "file_extension": ".py",
   "mimetype": "text/x-python",
   "name": "python",
   "nbconvert_exporter": "python",
   "pygments_lexer": "ipython3",
   "version": "3.10.7"
  },
  "orig_nbformat": 4,
  "vscode": {
   "interpreter": {
    "hash": "98b2fb71c50ddfbff1a5e104e90526af06b89123ae77e8670ff2735e5571f551"
   }
  }
 },
 "nbformat": 4,
 "nbformat_minor": 2
}
